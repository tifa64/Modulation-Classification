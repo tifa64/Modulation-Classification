{
  "nbformat": 4,
  "nbformat_minor": 0,
  "metadata": {
    "colab": {
      "name": "Radio Signal Processing.ipynb",
      "version": "0.3.2",
      "provenance": [],
      "collapsed_sections": []
    },
    "kernelspec": {
      "name": "python3",
      "display_name": "Python 3"
    }
  },
  "cells": [
    {
      "cell_type": "markdown",
      "metadata": {
        "id": "view-in-github",
        "colab_type": "text"
      },
      "source": [
        "[View in Colaboratory](https://colab.research.google.com/github/tifa64/Modulation-Classification/blob/master/Radio_Signal_Processing.ipynb)"
      ]
    },
    {
      "metadata": {
        "id": "H9ZJA2g2iEl-",
        "colab_type": "code",
        "colab": {
          "base_uri": "https://localhost:8080/",
          "height": 221
        },
        "outputId": "a947c0c6-3510-465f-eade-c56bb8a6edc7"
      },
      "cell_type": "code",
      "source": [
        "!rm -rf datalab\n",
        "!rm 2016.04C.multisnr.pkl.bz2 \n",
        "!wget http://104.197.136.14/ds/2016.04/2016.04C.multisnr.pkl.bz2\n",
        "!ls\n",
        "!bzip2 -d 2016.04C.multisnr.pkl.bz2\n",
        "!ls"
      ],
      "execution_count": 10,
      "outputs": [
        {
          "output_type": "stream",
          "text": [
            "--2018-05-02 20:32:59--  http://104.197.136.14/ds/2016.04/2016.04C.multisnr.pkl.bz2\r\n",
            "Connecting to 104.197.136.14:80... connected.\n",
            "HTTP request sent, awaiting response... 200 OK\n",
            "Length: 111458161 (106M) [application/x-bzip2]\n",
            "Saving to: ‘2016.04C.multisnr.pkl.bz2’\n",
            "\n",
            "2016.04C.multisnr.p 100%[===================>] 106.29M  2.30MB/s    in 31s     \n",
            "\n",
            "2018-05-02 20:33:31 (3.38 MB/s) - ‘2016.04C.multisnr.pkl.bz2’ saved [111458161/111458161]\n",
            "\n",
            "2016.04C.multisnr.pkl.bz2\n",
            "2016.04C.multisnr.pkl\n"
          ],
          "name": "stdout"
        }
      ]
    },
    {
      "metadata": {
        "id": "bgcGLVEYkBoL",
        "colab_type": "code",
        "colab": {
          "base_uri": "https://localhost:8080/",
          "height": 54
        },
        "outputId": "d712cc40-c257-486e-f610-422da81f544f"
      },
      "cell_type": "code",
      "source": [
        "import pickle\n",
        "\n",
        "with open('2016.04C.multisnr.pkl', 'rb') as f:\n",
        "    data = pickle.load(f,encoding='bytes')\n",
        "print(data.keys())\n"
      ],
      "execution_count": 39,
      "outputs": [
        {
          "output_type": "stream",
          "text": [
            "dict_keys([(b'QPSK', 2), (b'PAM4', 8), (b'AM-DSB', -4), (b'GFSK', 6), (b'QAM64', 8), (b'AM-SSB', 12), (b'PAM4', 18), (b'QAM64', -6), (b'QAM16', 2), (b'QAM16', -20), (b'8PSK', -18), (b'PAM4', -6), (b'WBFM', -18), (b'BPSK', 8), (b'CPFSK', 10), (b'WBFM', 6), (b'BPSK', 4), (b'BPSK', -2), (b'QPSK', -20), (b'CPFSK', -8), (b'AM-SSB', 6), (b'QAM64', -20), (b'QAM16', 12), (b'GFSK', -20), (b'AM-SSB', -12), (b'CPFSK', 0), (b'AM-DSB', 6), (b'BPSK', -16), (b'QPSK', -6), (b'8PSK', -12), (b'CPFSK', -18), (b'AM-DSB', -18), (b'QPSK', 8), (b'PAM4', 14), (b'WBFM', -8), (b'AM-DSB', -10), (b'GFSK', 12), (b'QAM64', 2), (b'8PSK', -10), (b'AM-SSB', -18), (b'QAM64', -4), (b'GFSK', -4), (b'AM-DSB', 8), (b'PAM4', -16), (b'QPSK', -16), (b'BPSK', 16), (b'WBFM', -14), (b'CPFSK', 16), (b'WBFM', 0), (b'QPSK', 6), (b'BPSK', 14), (b'AM-DSB', -8), (b'GFSK', -10), (b'CPFSK', -2), (b'AM-SSB', 8), (b'QAM16', 8), (b'QAM16', 6), (b'QAM16', -16), (b'QAM64', 18), (b'AM-SSB', -2), (b'CPFSK', 6), (b'BPSK', 0), (b'BPSK', -6), (b'8PSK', -14), (b'CPFSK', -12), (b'AM-SSB', 2), (b'WBFM', 10), (b'BPSK', -20), (b'PAM4', 4), (b'GFSK', 10), (b'QAM16', -6), (b'QAM64', 4), (b'PAM4', -20), (b'8PSK', 10), (b'AM-SSB', -16), (b'QAM64', -10), (b'GFSK', -6), (b'AM-DSB', 2), (b'PAM4', -10), (b'QPSK', -2), (b'8PSK', -8), (b'8PSK', 0), (b'QPSK', 12), (b'8PSK', 12), (b'AM-DSB', -14), (b'GFSK', 0), (b'QAM64', 14), (b'AM-SSB', 18), (b'QAM64', -8), (b'QAM16', 0), (b'GFSK', -16), (b'WBFM', 2), (b'PAM4', -4), (b'QPSK', -12), (b'WBFM', -20), (b'CPFSK', 12), (b'WBFM', 4), (b'BPSK', 10), (b'BPSK', -4), (b'QPSK', -18), (b'CPFSK', -6), (b'AM-SSB', 4), (b'BPSK', -12), (b'8PSK', 16), (b'QAM16', 10), (b'QAM16', -12), (b'WBFM', -6), (b'8PSK', -20), (b'AM-SSB', -6), (b'CPFSK', 2), (b'QPSK', 16), (b'AM-DSB', 4), (b'BPSK', -10), (b'WBFM', -4), (b'CPFSK', -16), (b'WBFM', -16), (b'QPSK', 10), (b'PAM4', 0), (b'AM-DSB', -12), (b'GFSK', 14), (b'QAM16', -2), (b'QAM64', 0), (b'WBFM', -10), (b'AM-SSB', -20), (b'QAM64', -14), (b'GFSK', -2), (b'AM-DSB', 14), (b'PAM4', -14), (b'QPSK', -14), (b'8PSK', -4), (b'CPFSK', 18), (b'8PSK', 4), (b'QPSK', 0), (b'BPSK', 12), (b'AM-DSB', -2), (b'GFSK', 4), (b'QAM64', 10), (b'AM-SSB', 14), (b'8PSK', 2), (b'QAM16', -10), (b'PAM4', 16), (b'QAM16', 4), (b'GFSK', 8), (b'QAM16', -18), (b'QAM64', 16), (b'PAM4', -8), (b'WBFM', 16), (b'WBFM', 14), (b'AM-SSB', -4), (b'CPFSK', 8), (b'BPSK', 6), (b'BPSK', -8), (b'CPFSK', -10), (b'AM-SSB', 0), (b'PAM4', 6), (b'QAM64', -18), (b'QAM16', 14), (b'QAM16', -8), (b'PAM4', -18), (b'AM-DSB', 18), (b'AM-SSB', -10), (b'QAM64', -12), (b'AM-DSB', 0), (b'BPSK', -14), (b'QPSK', -8), (b'8PSK', -6), (b'CPFSK', -20), (b'GFSK', 16), (b'WBFM', 8), (b'QPSK', 14), (b'PAM4', 12), (b'AM-DSB', -16), (b'GFSK', 2), (b'BPSK', -18), (b'QAM64', 12), (b'AM-SSB', 16), (b'AM-SSB', -14), (b'QAM64', -2), (b'8PSK', 14), (b'GFSK', -14), (b'BPSK', 18), (b'PAM4', -2), (b'QPSK', -10), (b'CPFSK', 14), (b'8PSK', 8), (b'QPSK', 4), (b'AM-DSB', 16), (b'AM-DSB', -6), (b'CPFSK', -4), (b'AM-SSB', 10), (b'WBFM', -2), (b'8PSK', 18), (b'GFSK', 18), (b'QAM16', -14), (b'AM-DSB', 10), (b'WBFM', -12), (b'AM-SSB', -8), (b'CPFSK', 4), (b'QPSK', 18), (b'BPSK', 2), (b'AM-DSB', -20), (b'8PSK', -16), (b'CPFSK', -14), (b'WBFM', 18), (b'PAM4', 2), (b'QAM16', 18), (b'QAM16', -4), (b'QAM64', 6), (b'GFSK', -18), (b'PAM4', 10), (b'QAM64', -16), (b'QAM16', 16), (b'GFSK', -8), (b'AM-DSB', 12), (b'PAM4', -12), (b'QPSK', -4), (b'8PSK', -2), (b'GFSK', -12), (b'8PSK', 6), (b'WBFM', 12)])\n"
          ],
          "name": "stdout"
        }
      ]
    },
    {
      "metadata": {
        "id": "DF7pLq9uDF7D",
        "colab_type": "code",
        "colab": {
          "base_uri": "https://localhost:8080/",
          "height": 391
        },
        "outputId": "72b2895d-e284-43fd-bf15-c25e94dabc29"
      },
      "cell_type": "code",
      "source": [
        "!pip install tensorflow\n",
        "!pip install keras"
      ],
      "execution_count": 2,
      "outputs": [
        {
          "output_type": "stream",
          "text": [
            "Requirement already satisfied: tensorflow in /usr/local/lib/python3.6/dist-packages (1.7.0)\n",
            "Requirement already satisfied: absl-py>=0.1.6 in /usr/local/lib/python3.6/dist-packages (from tensorflow) (0.2.0)\n",
            "Requirement already satisfied: numpy>=1.13.3 in /usr/local/lib/python3.6/dist-packages (from tensorflow) (1.14.3)\n",
            "Requirement already satisfied: tensorboard<1.8.0,>=1.7.0 in /usr/local/lib/python3.6/dist-packages (from tensorflow) (1.7.0)\n",
            "Requirement already satisfied: wheel>=0.26 in /usr/local/lib/python3.6/dist-packages (from tensorflow) (0.31.0)\n",
            "Requirement already satisfied: grpcio>=1.8.6 in /usr/local/lib/python3.6/dist-packages (from tensorflow) (1.11.0)\n",
            "Requirement already satisfied: six>=1.10.0 in /usr/local/lib/python3.6/dist-packages (from tensorflow) (1.11.0)\n",
            "Requirement already satisfied: protobuf>=3.4.0 in /usr/local/lib/python3.6/dist-packages (from tensorflow) (3.5.2.post1)\n",
            "Requirement already satisfied: astor>=0.6.0 in /usr/local/lib/python3.6/dist-packages (from tensorflow) (0.6.2)\n",
            "Requirement already satisfied: termcolor>=1.1.0 in /usr/local/lib/python3.6/dist-packages (from tensorflow) (1.1.0)\n",
            "Requirement already satisfied: gast>=0.2.0 in /usr/local/lib/python3.6/dist-packages (from tensorflow) (0.2.0)\n",
            "Requirement already satisfied: bleach==1.5.0 in /usr/local/lib/python3.6/dist-packages (from tensorboard<1.8.0,>=1.7.0->tensorflow) (1.5.0)\n",
            "Requirement already satisfied: werkzeug>=0.11.10 in /usr/local/lib/python3.6/dist-packages (from tensorboard<1.8.0,>=1.7.0->tensorflow) (0.14.1)\n",
            "Requirement already satisfied: markdown>=2.6.8 in /usr/local/lib/python3.6/dist-packages (from tensorboard<1.8.0,>=1.7.0->tensorflow) (2.6.11)\n",
            "Requirement already satisfied: html5lib==0.9999999 in /usr/local/lib/python3.6/dist-packages (from tensorboard<1.8.0,>=1.7.0->tensorflow) (0.9999999)\n",
            "Requirement already satisfied: setuptools in /usr/local/lib/python3.6/dist-packages (from protobuf>=3.4.0->tensorflow) (39.1.0)\n",
            "Requirement already satisfied: keras in /usr/local/lib/python3.6/dist-packages (2.1.6)\n",
            "Requirement already satisfied: pyyaml in /usr/local/lib/python3.6/dist-packages (from keras) (3.12)\n",
            "Requirement already satisfied: numpy>=1.9.1 in /usr/local/lib/python3.6/dist-packages (from keras) (1.14.3)\n",
            "Requirement already satisfied: h5py in /usr/local/lib/python3.6/dist-packages (from keras) (2.7.1)\n",
            "Requirement already satisfied: six>=1.9.0 in /usr/local/lib/python3.6/dist-packages (from keras) (1.11.0)\n",
            "Requirement already satisfied: scipy>=0.14 in /usr/local/lib/python3.6/dist-packages (from keras) (0.19.1)\n"
          ],
          "name": "stdout"
        }
      ]
    }
  ]
}