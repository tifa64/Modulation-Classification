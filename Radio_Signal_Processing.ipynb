{
  "nbformat": 4,
  "nbformat_minor": 0,
  "metadata": {
    "colab": {
      "name": "Radio Signal Processing.ipynb",
      "version": "0.3.2",
      "provenance": [],
      "collapsed_sections": []
    },
    "kernelspec": {
      "name": "python3",
      "display_name": "Python 3"
    },
    "accelerator": "GPU"
  },
  "cells": [
    {
      "cell_type": "markdown",
      "metadata": {
        "id": "view-in-github",
        "colab_type": "text"
      },
      "source": [
        "[View in Colaboratory](https://colab.research.google.com/github/tifa64/Modulation-Classification/blob/master/Radio_Signal_Processing.ipynb)"
      ]
    },
    {
      "metadata": {
        "id": "DF7pLq9uDF7D",
        "colab_type": "code",
        "colab": {
          "base_uri": "https://localhost:8080/",
          "height": 476
        },
        "outputId": "34fde878-5dc5-49d5-e8ba-28c39c5d2f79"
      },
      "cell_type": "code",
      "source": [
        "!pip install tensorflow\n",
        "!pip install keras\n",
        "!pip install pandas\n",
        "!pip install -U -q PyDrive"
      ],
      "execution_count": 2,
      "outputs": [
        {
          "output_type": "stream",
          "text": [
            "Requirement already satisfied: tensorflow in /usr/local/lib/python3.6/dist-packages (1.7.0)\r\n",
            "Requirement already satisfied: astor>=0.6.0 in /usr/local/lib/python3.6/dist-packages (from tensorflow) (0.6.2)\r\n",
            "Requirement already satisfied: grpcio>=1.8.6 in /usr/local/lib/python3.6/dist-packages (from tensorflow) (1.11.0)\r\n",
            "Requirement already satisfied: gast>=0.2.0 in /usr/local/lib/python3.6/dist-packages (from tensorflow) (0.2.0)\r\n",
            "Requirement already satisfied: six>=1.10.0 in /usr/local/lib/python3.6/dist-packages (from tensorflow) (1.11.0)\r\n",
            "Requirement already satisfied: tensorboard<1.8.0,>=1.7.0 in /usr/local/lib/python3.6/dist-packages (from tensorflow) (1.7.0)\r\n",
            "Requirement already satisfied: termcolor>=1.1.0 in /usr/local/lib/python3.6/dist-packages (from tensorflow) (1.1.0)\r\n",
            "Requirement already satisfied: numpy>=1.13.3 in /usr/local/lib/python3.6/dist-packages (from tensorflow) (1.14.3)\r\n",
            "Requirement already satisfied: wheel>=0.26 in /usr/local/lib/python3.6/dist-packages (from tensorflow) (0.31.0)\n",
            "Requirement already satisfied: absl-py>=0.1.6 in /usr/local/lib/python3.6/dist-packages (from tensorflow) (0.2.0)\n",
            "Requirement already satisfied: protobuf>=3.4.0 in /usr/local/lib/python3.6/dist-packages (from tensorflow) (3.5.2.post1)\n",
            "Requirement already satisfied: markdown>=2.6.8 in /usr/local/lib/python3.6/dist-packages (from tensorboard<1.8.0,>=1.7.0->tensorflow) (2.6.11)\n",
            "Requirement already satisfied: bleach==1.5.0 in /usr/local/lib/python3.6/dist-packages (from tensorboard<1.8.0,>=1.7.0->tensorflow) (1.5.0)\n",
            "Requirement already satisfied: html5lib==0.9999999 in /usr/local/lib/python3.6/dist-packages (from tensorboard<1.8.0,>=1.7.0->tensorflow) (0.9999999)\n",
            "Requirement already satisfied: werkzeug>=0.11.10 in /usr/local/lib/python3.6/dist-packages (from tensorboard<1.8.0,>=1.7.0->tensorflow) (0.14.1)\n",
            "Requirement already satisfied: setuptools in /usr/local/lib/python3.6/dist-packages (from protobuf>=3.4.0->tensorflow) (39.1.0)\n",
            "Requirement already satisfied: keras in /usr/local/lib/python3.6/dist-packages (2.1.6)\n",
            "Requirement already satisfied: pyyaml in /usr/local/lib/python3.6/dist-packages (from keras) (3.12)\n",
            "Requirement already satisfied: scipy>=0.14 in /usr/local/lib/python3.6/dist-packages (from keras) (0.19.1)\n",
            "Requirement already satisfied: six>=1.9.0 in /usr/local/lib/python3.6/dist-packages (from keras) (1.11.0)\n",
            "Requirement already satisfied: numpy>=1.9.1 in /usr/local/lib/python3.6/dist-packages (from keras) (1.14.3)\n",
            "Requirement already satisfied: h5py in /usr/local/lib/python3.6/dist-packages (from keras) (2.7.1)\n",
            "Requirement already satisfied: pandas in /usr/local/lib/python3.6/dist-packages (0.22.0)\n",
            "Requirement already satisfied: pytz>=2011k in /usr/local/lib/python3.6/dist-packages (from pandas) (2018.4)\n",
            "Requirement already satisfied: python-dateutil>=2 in /usr/local/lib/python3.6/dist-packages (from pandas) (2.5.3)\n",
            "Requirement already satisfied: numpy>=1.9.0 in /usr/local/lib/python3.6/dist-packages (from pandas) (1.14.3)\n",
            "Requirement already satisfied: six>=1.5 in /usr/local/lib/python3.6/dist-packages (from python-dateutil>=2->pandas) (1.11.0)\n"
          ],
          "name": "stdout"
        }
      ]
    },
    {
      "metadata": {
        "id": "H9ZJA2g2iEl-",
        "colab_type": "code",
        "colab": {
          "base_uri": "https://localhost:8080/",
          "height": 238
        },
        "outputId": "46422974-bb48-4fde-ac21-f5a2da300dc5"
      },
      "cell_type": "code",
      "source": [
        "!rm -rf datalab\n",
        "!rm 2016.04C.multisnr.pkl.bz2 \n",
        "!wget http://104.197.136.14/ds/2016.04/2016.04C.multisnr.pkl.bz2\n",
        "!ls\n",
        "!bzip2 -d 2016.04C.multisnr.pkl.bz2\n",
        "!ls"
      ],
      "execution_count": 3,
      "outputs": [
        {
          "output_type": "stream",
          "text": [
            "rm: cannot remove '2016.04C.multisnr.pkl.bz2': No such file or directory\n",
            "--2018-05-08 19:51:35--  http://104.197.136.14/ds/2016.04/2016.04C.multisnr.pkl.bz2\n",
            "Connecting to 104.197.136.14:80... connected.\n",
            "HTTP request sent, awaiting response... 200 OK\n",
            "Length: 111458161 (106M) [application/x-bzip2]\n",
            "Saving to: ‘2016.04C.multisnr.pkl.bz2’\n",
            "\n",
            "2016.04C.multisnr.p 100%[===================>] 106.29M  63.0MB/s    in 1.7s    \n",
            "\n",
            "2018-05-08 19:51:36 (63.0 MB/s) - ‘2016.04C.multisnr.pkl.bz2’ saved [111458161/111458161]\n",
            "\n",
            "2016.04C.multisnr.pkl.bz2\n",
            "2016.04C.multisnr.pkl\n"
          ],
          "name": "stdout"
        }
      ]
    },
    {
      "metadata": {
        "id": "aAAW4oEuj8bS",
        "colab_type": "code",
        "colab": {}
      },
      "cell_type": "code",
      "source": [
        "import pickle\n",
        "import numpy as np\n",
        "import os\n",
        "import pandas as pd\n",
        "from scipy import integrate\n",
        "from google.colab import files\n",
        "from pydrive.auth import GoogleAuth\n",
        "from pydrive.drive import GoogleDrive\n",
        "from google.colab import auth\n",
        "from oauth2client.client import GoogleCredentials\n",
        "\n",
        "def f(x,c):\n",
        "  return x*c"
      ],
      "execution_count": 0,
      "outputs": []
    },
    {
      "metadata": {
        "id": "bgcGLVEYkBoL",
        "colab_type": "code",
        "colab": {}
      },
      "cell_type": "code",
      "source": [
        "with open('2016.04C.multisnr.pkl', 'rb') as f:\n",
        "    Xd = pickle.load(f,encoding='bytes')\n",
        "\n",
        "mods,snrs = map(lambda j: sorted(list(set(map(lambda x: x[j], Xd.keys())))), [0,1])\n",
        "X = []  \n",
        "lbl = []\n",
        "for mod in mods:\n",
        "    for snr in snrs:\n",
        "        X.append(Xd[(mod,snr)])\n",
        "        for i in range(Xd[(mod,snr)].shape[0]):  lbl.append((mod,snr))\n",
        "X = np.vstack(X)\n"
      ],
      "execution_count": 0,
      "outputs": []
    },
    {
      "metadata": {
        "id": "nh8iHd2AUbVK",
        "colab_type": "text"
      },
      "cell_type": "markdown",
      "source": [
        "# Partition the data"
      ]
    },
    {
      "metadata": {
        "id": "7z9aP9yykLsp",
        "colab_type": "code",
        "colab": {
          "base_uri": "https://localhost:8080/",
          "height": 34
        },
        "outputId": "45efd887-28f1-46f3-b97e-fd1f54953e6c"
      },
      "cell_type": "code",
      "source": [
        "# Partition the data\n",
        "#  into training and test sets of the form we can train/test on \n",
        "#  while keeping SNR and Mod labels handy for each\n",
        "np.random.seed(2016)\n",
        "n_examples = X.shape[0]\n",
        "n_train = n_examples * 0.5\n",
        "print(n_train)\n",
        "train_idx = np.random.choice(range(0, n_examples), size=int(n_train), replace=False)\n",
        "test_idx = list(set(range(0,n_examples))-set(train_idx))\n",
        "X_train = X[train_idx]\n",
        "X_test =  X[test_idx]\n",
        "def to_onehot(yy):\n",
        "    yy1 = np.zeros([len(yy), max(yy)+1])\n",
        "    yy1[np.arange(len(yy)),yy] = 1\n",
        "    return yy1\n",
        "Y_train = to_onehot(list(map(lambda x: mods.index(lbl[x][0]), train_idx)))\n",
        "Y_test = to_onehot(list(map(lambda x: mods.index(lbl[x][0]), test_idx)))"
      ],
      "execution_count": 6,
      "outputs": [
        {
          "output_type": "stream",
          "text": [
            "81030.0\n"
          ],
          "name": "stdout"
        }
      ]
    },
    {
      "metadata": {
        "id": "BFO3_IHNUWbb",
        "colab_type": "text"
      },
      "cell_type": "markdown",
      "source": [
        "# Adding diffrentiation feature"
      ]
    },
    {
      "metadata": {
        "id": "jU825xEhqk_7",
        "colab_type": "code",
        "colab": {
          "base_uri": "https://localhost:8080/",
          "height": 34
        },
        "outputId": "8a14d980-d91a-4997-849d-6cc6dea876b4"
      },
      "cell_type": "code",
      "source": [
        "X_train_def = np.empty([81030, 4, 128])\n",
        "for i,sample in  enumerate(X_train):\n",
        "    for vector in sample:\n",
        "        grad = np.gradient(vector)\n",
        "        sample = np.vstack((sample,grad))\n",
        "    X_train_def[i] = sample   \n",
        "print(X_train_def[0][2][0])    "
      ],
      "execution_count": 7,
      "outputs": [
        {
          "output_type": "stream",
          "text": [
            "0.5915333032608032\n"
          ],
          "name": "stdout"
        }
      ]
    },
    {
      "metadata": {
        "id": "cjxHiqCO8dpp",
        "colab_type": "code",
        "colab": {}
      },
      "cell_type": "code",
      "source": [
        "X_train_def2 = np.empty([81030, 2, 128])\n",
        "container = np.empty([2, 128])\n",
        "for i,sample in  enumerate(X_train):\n",
        "    for j, vector in enumerate(sample):\n",
        "        grad = np.gradient(vector)\n",
        "        container[j] = grad\n",
        "    X_train_def2[i] = container\n",
        "    container = np.empty([2, 128])\n"
      ],
      "execution_count": 0,
      "outputs": []
    },
    {
      "metadata": {
        "id": "Wdh8yYit_7-5",
        "colab_type": "code",
        "colab": {
          "base_uri": "https://localhost:8080/",
          "height": 34
        },
        "outputId": "96be87c2-dd2b-45c4-d8d6-432c06d539ba"
      },
      "cell_type": "code",
      "source": [
        "def f(x,c):\n",
        "  return x*c\n",
        "\n",
        "X_train_int2 = np.empty([81030, 2, 128])\n",
        "print(X_train[0][0][0])\n",
        "for i,sample in enumerate(X_train):\n",
        "    for j, vector in enumerate(sample):\n",
        "        for k, element in enumerate(vector):\n",
        "            X_train_int2[i][j][k] = integrate.quad(f, 0, 0.128, element)[0]\n",
        "       "
      ],
      "execution_count": 9,
      "outputs": [
        {
          "output_type": "stream",
          "text": [
            "-1.6880678\n"
          ],
          "name": "stdout"
        }
      ]
    },
    {
      "metadata": {
        "id": "MDPj5q7_dHrf",
        "colab_type": "code",
        "colab": {
          "base_uri": "https://localhost:8080/",
          "height": 1139
        },
        "outputId": "b319de9f-320d-4eb5-8a6c-ba43bdd2eaa4"
      },
      "cell_type": "code",
      "source": [
        "def indices_merged_arr(arr):\n",
        "    n = arr.ndim\n",
        "    grid = np.ogrid[tuple(map(slice, arr.shape))]\n",
        "    out = np.empty(arr.shape + (n+1,), dtype=arr.dtype)\n",
        "    for i in range(n):\n",
        "        out[...,i+1] = grid[i]\n",
        "    out[...,0] = arr\n",
        "    out.shape = (-1,n+1)\n",
        "    return out\n",
        "  \n",
        "\n",
        "print( os.getcwd() )\n",
        "print(X_train_int2.shape)\n",
        "# stacked = pd.Panel(X_train_int2.swapaxes(1,2)).to_frame().stack().reset_index()\n",
        "# stacked.columns = ['x', 'y', 'z', 'value']\n",
        "# # save to disk\n",
        "# stacked.to_csv(\"matrix2.csv\", header=None)\n",
        "df = pd.DataFrame(indices_merged_arr(X_train_int2), columns=list('Axyz'))\n",
        "print(df.get_values)\n",
        "df.to_csv(\"matrix3.csv\")"
      ],
      "execution_count": 26,
      "outputs": [
        {
          "output_type": "stream",
          "text": [
            "/content\n",
            "(81030, 2, 128)\n",
            "<bound method NDFrame.get_values of                  A        x    y      z\n",
            "0        -0.013829      0.0  0.0    0.0\n",
            "1        -0.008983      0.0  0.0    1.0\n",
            "2        -0.011593      0.0  0.0    2.0\n",
            "3        -0.011579      0.0  0.0    3.0\n",
            "4        -0.016849      0.0  0.0    4.0\n",
            "5        -0.016577      0.0  0.0    5.0\n",
            "6        -0.012991      0.0  0.0    6.0\n",
            "7        -0.013456      0.0  0.0    7.0\n",
            "8        -0.012640      0.0  0.0    8.0\n",
            "9        -0.011822      0.0  0.0    9.0\n",
            "10       -0.016012      0.0  0.0   10.0\n",
            "11       -0.012626      0.0  0.0   11.0\n",
            "12       -0.013330      0.0  0.0   12.0\n",
            "13       -0.016067      0.0  0.0   13.0\n",
            "14       -0.015409      0.0  0.0   14.0\n",
            "15       -0.012156      0.0  0.0   15.0\n",
            "16       -0.012966      0.0  0.0   16.0\n",
            "17       -0.013079      0.0  0.0   17.0\n",
            "18       -0.013808      0.0  0.0   18.0\n",
            "19       -0.014094      0.0  0.0   19.0\n",
            "20       -0.013424      0.0  0.0   20.0\n",
            "21       -0.013021      0.0  0.0   21.0\n",
            "22       -0.012249      0.0  0.0   22.0\n",
            "23       -0.013389      0.0  0.0   23.0\n",
            "24       -0.013844      0.0  0.0   24.0\n",
            "25       -0.015076      0.0  0.0   25.0\n",
            "26       -0.014055      0.0  0.0   26.0\n",
            "27       -0.015776      0.0  0.0   27.0\n",
            "28       -0.015955      0.0  0.0   28.0\n",
            "29       -0.012368      0.0  0.0   29.0\n",
            "...            ...      ...  ...    ...\n",
            "20743650 -0.012570  81029.0  1.0   98.0\n",
            "20743651  0.001474  81029.0  1.0   99.0\n",
            "20743652  0.000797  81029.0  1.0  100.0\n",
            "20743653  0.013843  81029.0  1.0  101.0\n",
            "20743654  0.011806  81029.0  1.0  102.0\n",
            "20743655  0.022958  81029.0  1.0  103.0\n",
            "20743656  0.005840  81029.0  1.0  104.0\n",
            "20743657  0.016865  81029.0  1.0  105.0\n",
            "20743658  0.033397  81029.0  1.0  106.0\n",
            "20743659  0.010150  81029.0  1.0  107.0\n",
            "20743660  0.023789  81029.0  1.0  108.0\n",
            "20743661  0.013699  81029.0  1.0  109.0\n",
            "20743662  0.020996  81029.0  1.0  110.0\n",
            "20743663  0.026393  81029.0  1.0  111.0\n",
            "20743664  0.006813  81029.0  1.0  112.0\n",
            "20743665  0.002430  81029.0  1.0  113.0\n",
            "20743666  0.025603  81029.0  1.0  114.0\n",
            "20743667  0.018860  81029.0  1.0  115.0\n",
            "20743668  0.016187  81029.0  1.0  116.0\n",
            "20743669  0.006287  81029.0  1.0  117.0\n",
            "20743670  0.018980  81029.0  1.0  118.0\n",
            "20743671  0.009747  81029.0  1.0  119.0\n",
            "20743672  0.006879  81029.0  1.0  120.0\n",
            "20743673  0.004260  81029.0  1.0  121.0\n",
            "20743674  0.012315  81029.0  1.0  122.0\n",
            "20743675 -0.002709  81029.0  1.0  123.0\n",
            "20743676 -0.013299  81029.0  1.0  124.0\n",
            "20743677  0.001295  81029.0  1.0  125.0\n",
            "20743678 -0.016426  81029.0  1.0  126.0\n",
            "20743679 -0.017821  81029.0  1.0  127.0\n",
            "\n",
            "[20743680 rows x 4 columns]>\n"
          ],
          "name": "stdout"
        }
      ]
    },
    {
      "metadata": {
        "id": "vi1T4obhG2HE",
        "colab_type": "code",
        "colab": {}
      },
      "cell_type": "code",
      "source": [
        "# Code to read csv file into colaboratory:\n",
        "\n",
        "\n",
        "# 1. Authenticate and create the PyDrive client.\n",
        "auth.authenticate_user()\n",
        "gauth = GoogleAuth()\n",
        "gauth.credentials = GoogleCredentials.get_application_default()\n",
        "drive = GoogleDrive(gauth)\n",
        "\n",
        "#2. Get the file\n",
        "downloaded = drive.CreateFile({'id':'1Q_tifiTlVE-bJgXE3TXtspdzRdTF56_m'}) # replace the id with id of file you want to access\n",
        "downloaded.GetContentFile('matrix3.csv')  \n",
        "\n",
        "#3. Read file as panda dataframe\n",
        "import pandas as pd\n",
        "xyz = pd.read_csv('matrix3.csv') \n",
        "\n"
      ],
      "execution_count": 0,
      "outputs": []
    },
    {
      "metadata": {
        "id": "lQuIscfYI6xU",
        "colab_type": "code",
        "colab": {
          "base_uri": "https://localhost:8080/",
          "height": 2210
        },
        "outputId": "d9c4e23c-b8e4-4a6c-91ce-8a49456cb13b"
      },
      "cell_type": "code",
      "source": [
        "print(xyz.get_values)\n",
        "X_int = np.array(xyz['A'])\n",
        "#X_int = np.insert(X_int, 0, (xyz.keys()[4]))\n",
        "X_int = X_int.reshape((81030, 2, 128)) \n",
        "\n"
      ],
      "execution_count": 34,
      "outputs": [
        {
          "output_type": "stream",
          "text": [
            "<bound method NDFrame.get_values of           Unnamed: 0         A        x    y      z\n",
            "0                  0 -0.013829      0.0  0.0    0.0\n",
            "1                  1 -0.008983      0.0  0.0    1.0\n",
            "2                  2 -0.011593      0.0  0.0    2.0\n",
            "3                  3 -0.011579      0.0  0.0    3.0\n",
            "4                  4 -0.016849      0.0  0.0    4.0\n",
            "5                  5 -0.016577      0.0  0.0    5.0\n",
            "6                  6 -0.012991      0.0  0.0    6.0\n",
            "7                  7 -0.013456      0.0  0.0    7.0\n",
            "8                  8 -0.012640      0.0  0.0    8.0\n",
            "9                  9 -0.011822      0.0  0.0    9.0\n",
            "10                10 -0.016012      0.0  0.0   10.0\n",
            "11                11 -0.012626      0.0  0.0   11.0\n",
            "12                12 -0.013330      0.0  0.0   12.0\n",
            "13                13 -0.016067      0.0  0.0   13.0\n",
            "14                14 -0.015409      0.0  0.0   14.0\n",
            "15                15 -0.012156      0.0  0.0   15.0\n",
            "16                16 -0.012966      0.0  0.0   16.0\n",
            "17                17 -0.013079      0.0  0.0   17.0\n",
            "18                18 -0.013808      0.0  0.0   18.0\n",
            "19                19 -0.014094      0.0  0.0   19.0\n",
            "20                20 -0.013424      0.0  0.0   20.0\n",
            "21                21 -0.013021      0.0  0.0   21.0\n",
            "22                22 -0.012249      0.0  0.0   22.0\n",
            "23                23 -0.013389      0.0  0.0   23.0\n",
            "24                24 -0.013844      0.0  0.0   24.0\n",
            "25                25 -0.015076      0.0  0.0   25.0\n",
            "26                26 -0.014055      0.0  0.0   26.0\n",
            "27                27 -0.015776      0.0  0.0   27.0\n",
            "28                28 -0.015955      0.0  0.0   28.0\n",
            "29                29 -0.012368      0.0  0.0   29.0\n",
            "...              ...       ...      ...  ...    ...\n",
            "20743650    20743650 -0.012570  81029.0  1.0   98.0\n",
            "20743651    20743651  0.001474  81029.0  1.0   99.0\n",
            "20743652    20743652  0.000797  81029.0  1.0  100.0\n",
            "20743653    20743653  0.013843  81029.0  1.0  101.0\n",
            "20743654    20743654  0.011806  81029.0  1.0  102.0\n",
            "20743655    20743655  0.022958  81029.0  1.0  103.0\n",
            "20743656    20743656  0.005840  81029.0  1.0  104.0\n",
            "20743657    20743657  0.016865  81029.0  1.0  105.0\n",
            "20743658    20743658  0.033397  81029.0  1.0  106.0\n",
            "20743659    20743659  0.010150  81029.0  1.0  107.0\n",
            "20743660    20743660  0.023789  81029.0  1.0  108.0\n",
            "20743661    20743661  0.013699  81029.0  1.0  109.0\n",
            "20743662    20743662  0.020996  81029.0  1.0  110.0\n",
            "20743663    20743663  0.026393  81029.0  1.0  111.0\n",
            "20743664    20743664  0.006813  81029.0  1.0  112.0\n",
            "20743665    20743665  0.002430  81029.0  1.0  113.0\n",
            "20743666    20743666  0.025603  81029.0  1.0  114.0\n",
            "20743667    20743667  0.018860  81029.0  1.0  115.0\n",
            "20743668    20743668  0.016187  81029.0  1.0  116.0\n",
            "20743669    20743669  0.006287  81029.0  1.0  117.0\n",
            "20743670    20743670  0.018980  81029.0  1.0  118.0\n",
            "20743671    20743671  0.009747  81029.0  1.0  119.0\n",
            "20743672    20743672  0.006879  81029.0  1.0  120.0\n",
            "20743673    20743673  0.004260  81029.0  1.0  121.0\n",
            "20743674    20743674  0.012315  81029.0  1.0  122.0\n",
            "20743675    20743675 -0.002709  81029.0  1.0  123.0\n",
            "20743676    20743676 -0.013299  81029.0  1.0  124.0\n",
            "20743677    20743677  0.001295  81029.0  1.0  125.0\n",
            "20743678    20743678 -0.016426  81029.0  1.0  126.0\n",
            "20743679    20743679 -0.017821  81029.0  1.0  127.0\n",
            "\n",
            "[20743680 rows x 5 columns]>\n",
            "[-1.38286514e-02 -8.98281055e-03 -1.15931260e-02 -1.15793525e-02\n",
            " -1.68487969e-02 -1.65770273e-02 -1.29913281e-02 -1.34562676e-02\n",
            " -1.26395977e-02 -1.18216250e-02 -1.60116113e-02 -1.26255186e-02\n",
            " -1.33300215e-02 -1.60671387e-02 -1.54089395e-02 -1.21557998e-02\n",
            " -1.29659102e-02 -1.30793477e-02 -1.38084883e-02 -1.40941270e-02\n",
            " -1.34237568e-02 -1.30212578e-02 -1.22485410e-02 -1.33892930e-02\n",
            " -1.38441816e-02 -1.50759209e-02 -1.40552783e-02 -1.57761553e-02\n",
            " -1.59545215e-02 -1.23679590e-02 -1.30270537e-02 -1.42662344e-02\n",
            " -1.19037402e-02 -1.30211504e-02 -1.39507129e-02 -1.50905693e-02\n",
            " -1.19860723e-02 -1.23659453e-02 -1.26037646e-02 -9.80420313e-03\n",
            " -9.54696777e-03 -1.04683398e-02 -1.16470078e-02 -8.49250391e-03\n",
            " -9.50825684e-03 -8.48285938e-03 -5.46004102e-03 -5.27898193e-04\n",
            " -4.03767310e-03 -1.63163147e-03 -8.95858643e-04  2.62416626e-03\n",
            "  5.76414893e-03  2.15089844e-04  6.86526758e-03  8.00358496e-03\n",
            "  8.62873926e-03  8.96284473e-03  9.73309473e-03  8.82104980e-03\n",
            "  1.40072051e-02  1.15914473e-02  1.16022451e-02  1.66010801e-02\n",
            "  1.23815674e-02  1.10060059e-02  1.39860254e-02  1.36776846e-02\n",
            "  1.50270117e-02  1.37125752e-02  1.34094434e-02  1.65402090e-02\n",
            "  1.57859092e-02  1.15518389e-02  1.39932656e-02  1.43031416e-02\n",
            "  1.51537773e-02  1.42322900e-02  1.36553965e-02  1.29300361e-02\n",
            "  1.31742949e-02  1.14016816e-02  9.51990039e-03  6.49448584e-03\n",
            "  1.09261592e-02  9.17091406e-03  8.33050293e-03  7.35874805e-03\n",
            "  7.47697949e-03  1.08050430e-02  9.54347461e-03  1.04562725e-02\n",
            "  9.79941602e-03  9.31354785e-03  1.05380508e-02  1.00665889e-02\n",
            "  7.67480273e-03  8.32345020e-03  7.65628271e-03  4.47717090e-03\n",
            "  4.85615674e-03  6.19969922e-03  5.49263477e-03  1.59026306e-03\n",
            " -2.35845142e-03  3.83434937e-04  1.41743286e-03 -4.03199194e-03\n",
            " -5.10929688e-03 -9.63700195e-04 -1.62832910e-03 -1.37571094e-03\n",
            " -1.27141760e-03 -3.68944122e-04  2.41555786e-03  7.16614868e-04\n",
            "  8.50441895e-05  4.69786084e-03  6.91271484e-03  8.49912891e-03\n",
            "  6.62693848e-03  8.81096680e-03  1.05089365e-02  1.13080059e-02\n",
            "  1.05812236e-02  1.25715703e-02  1.11294131e-02  9.74052246e-03]\n",
            "hopaa\n",
            "[-1.38286514e-02 -8.98281055e-03 -1.15931260e-02 -1.15793525e-02\n",
            " -1.68487969e-02 -1.65770273e-02 -1.29913281e-02 -1.34562676e-02\n",
            " -1.26395977e-02 -1.18216250e-02 -1.60116113e-02 -1.26255186e-02\n",
            " -1.33300215e-02 -1.60671387e-02 -1.54089395e-02 -1.21557998e-02\n",
            " -1.29659102e-02 -1.30793477e-02 -1.38084883e-02 -1.40941270e-02\n",
            " -1.34237568e-02 -1.30212578e-02 -1.22485410e-02 -1.33892930e-02\n",
            " -1.38441816e-02 -1.50759209e-02 -1.40552783e-02 -1.57761553e-02\n",
            " -1.59545215e-02 -1.23679590e-02 -1.30270537e-02 -1.42662344e-02\n",
            " -1.19037402e-02 -1.30211504e-02 -1.39507129e-02 -1.50905693e-02\n",
            " -1.19860723e-02 -1.23659453e-02 -1.26037646e-02 -9.80420313e-03\n",
            " -9.54696777e-03 -1.04683398e-02 -1.16470078e-02 -8.49250391e-03\n",
            " -9.50825684e-03 -8.48285938e-03 -5.46004102e-03 -5.27898193e-04\n",
            " -4.03767310e-03 -1.63163147e-03 -8.95858643e-04  2.62416626e-03\n",
            "  5.76414893e-03  2.15089844e-04  6.86526758e-03  8.00358496e-03\n",
            "  8.62873926e-03  8.96284473e-03  9.73309473e-03  8.82104980e-03\n",
            "  1.40072051e-02  1.15914473e-02  1.16022451e-02  1.66010801e-02\n",
            "  1.23815674e-02  1.10060059e-02  1.39860254e-02  1.36776846e-02\n",
            "  1.50270117e-02  1.37125752e-02  1.34094434e-02  1.65402090e-02\n",
            "  1.57859092e-02  1.15518389e-02  1.39932656e-02  1.43031416e-02\n",
            "  1.51537773e-02  1.42322900e-02  1.36553965e-02  1.29300361e-02\n",
            "  1.31742949e-02  1.14016816e-02  9.51990039e-03  6.49448584e-03\n",
            "  1.09261592e-02  9.17091406e-03  8.33050293e-03  7.35874805e-03\n",
            "  7.47697949e-03  1.08050430e-02  9.54347461e-03  1.04562725e-02\n",
            "  9.79941602e-03  9.31354785e-03  1.05380508e-02  1.00665889e-02\n",
            "  7.67480273e-03  8.32345020e-03  7.65628271e-03  4.47717090e-03\n",
            "  4.85615674e-03  6.19969922e-03  5.49263477e-03  1.59026306e-03\n",
            " -2.35845142e-03  3.83434937e-04  1.41743286e-03 -4.03199194e-03\n",
            " -5.10929688e-03 -9.63700195e-04 -1.62832910e-03 -1.37571094e-03\n",
            " -1.27141760e-03 -3.68944122e-04  2.41555786e-03  7.16614868e-04\n",
            "  8.50441895e-05  4.69786084e-03  6.91271484e-03  8.49912891e-03\n",
            "  6.62693848e-03  8.81096680e-03  1.05089365e-02  1.13080059e-02\n",
            "  1.05812236e-02  1.25715703e-02  1.11294131e-02  9.74052246e-03]\n"
          ],
          "name": "stdout"
        }
      ]
    },
    {
      "metadata": {
        "id": "WUY4bBmvI6wG",
        "colab_type": "code",
        "colab": {}
      },
      "cell_type": "code",
      "source": [
        ""
      ],
      "execution_count": 0,
      "outputs": []
    }
  ]
}